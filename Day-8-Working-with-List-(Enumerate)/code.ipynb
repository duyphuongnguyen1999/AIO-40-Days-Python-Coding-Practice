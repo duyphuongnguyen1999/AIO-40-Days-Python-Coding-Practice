{
 "cells": [
  {
   "cell_type": "code",
   "execution_count": 2,
   "metadata": {},
   "outputs": [
    {
     "name": "stdout",
     "output_type": "stream",
     "text": [
      "Shopping list: \n",
      "1. Carrot\n",
      "2. Apple\n",
      "3. Milk\n"
     ]
    }
   ],
   "source": [
    "# Method 1\n",
    "shopping_list = ['Carrot', 'Apple', 'Milk']\n",
    "\n",
    "print(\"Shopping list: \")\n",
    "for index in range(len(shopping_list)):\n",
    "    print(f\"{index + 1}. {shopping_list[index]}\")"
   ]
  },
  {
   "cell_type": "code",
   "execution_count": 6,
   "metadata": {},
   "outputs": [
    {
     "name": "stdout",
     "output_type": "stream",
     "text": [
      "Shopping list: \n",
      "1. Carrot\n",
      "2. Apple\n",
      "3. Milk\n"
     ]
    }
   ],
   "source": [
    "# Method 2\n",
    "print(\"Shopping list: \")\n",
    "for index, item in enumerate(shopping_list, start=1):\n",
    "    print(f\"{index}. {item}\")"
   ]
  }
 ],
 "metadata": {
  "kernelspec": {
   "display_name": "base",
   "language": "python",
   "name": "python3"
  },
  "language_info": {
   "codemirror_mode": {
    "name": "ipython",
    "version": 3
   },
   "file_extension": ".py",
   "mimetype": "text/x-python",
   "name": "python",
   "nbconvert_exporter": "python",
   "pygments_lexer": "ipython3",
   "version": "3.11.5"
  }
 },
 "nbformat": 4,
 "nbformat_minor": 2
}
